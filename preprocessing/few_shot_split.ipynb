{
 "cells": [
  {
   "cell_type": "code",
   "execution_count": 11,
   "metadata": {},
   "outputs": [],
   "source": [
    "import pandas as pd\n",
    "import numpy as np\n",
    "# import matplotlib.pyplot as plt\n",
    "import os \n"
   ]
  },
  {
   "cell_type": "code",
   "execution_count": null,
   "metadata": {},
   "outputs": [],
   "source": [
    "DATA_BASE = \"tc-hard/dataset/ds.hard-splits/pep+cdr3b\"\n",
    "\n",
    "FEW_SHOT_DATA_BASE = \"tc-hard/dataset/few_shot_split/pep+cdr3b\""
   ]
  },
  {
   "cell_type": "code",
   "execution_count": 13,
   "metadata": {},
   "outputs": [],
   "source": [
    "validation_ratio = 0.2"
   ]
  },
  {
   "cell_type": "code",
   "execution_count": 14,
   "metadata": {},
   "outputs": [],
   "source": [
    "def make_df(df_path):\n",
    "    df = pd.read_csv(df_path, usecols = [\"cdr3.beta\", \"antigen.epitope\", \"label\"])\n",
    "\n",
    "    map_keys = {\n",
    "    'cdr3.beta': 'tcrb',\n",
    "    'antigen.epitope': 'peptide',\n",
    "    \"label\": \"label\"\n",
    "    }\n",
    "    df = df.rename(columns={c: map_keys[c] for c in df.columns})\n",
    "\n",
    "    df['tcrb'] = df['tcrb'].str.replace('O','X')\n",
    "    df['peptide'] = df['peptide'].str.replace('O','X')\n",
    "\n",
    "    return df\n",
    "\n"
   ]
  },
  {
   "cell_type": "code",
   "execution_count": 15,
   "metadata": {},
   "outputs": [],
   "source": [
    "def draw_bar(train_num, validation_num, test_num, split_id):\n",
    "\n",
    "    labels = [\"train\", \"validation\", \"test\"]\n",
    "    bars = plt.bar(labels, [train_num, validation_num, test_num])\n",
    "\n",
    "    plt.title(f'Samples Distribution in split {split_id}')\n",
    "    plt.xlabel('Categories')\n",
    "    plt.ylabel('Values')\n",
    "\n",
    "    for bar in bars:\n",
    "        yval = bar.get_height()\n",
    "        plt.text(bar.get_x() + bar.get_width()/2, yval, int(yval), ha='center', va='bottom')\n",
    "\n",
    "    plt.show()\n",
    "\n",
    "def check_unseen(train, validation):\n",
    "    peptide_train = set(train['peptide'])\n",
    "    peptide_validation = set(validation['peptide'])\n",
    "    print(\"num of unseen peptides in validation set: \", len(peptide_validation - peptide_train))\n",
    "    print(\"num of unseen peptides in train set: \", len(peptide_train - peptide_validation))\n",
    "    print(\"num of common peptides in train and validation set: \", len(peptide_train & peptide_validation))\n"
   ]
  },
  {
   "cell_type": "code",
   "execution_count": 16,
   "metadata": {},
   "outputs": [],
   "source": [
    "def get_few_shot_df(df, num_seen_peptide = 0.2, num_few_shots = 5):\n",
    "    # Sample 20% of the unique peptides\n",
    "    unique_peptides = df['peptide'].unique()\n",
    "    sampled_peptides = pd.Series(unique_peptides).sample(frac = num_seen_peptide, random_state=42)  # Ensures reproducibility\n",
    "\n",
    "    # Filter the DataFrame to only include rows with the sampled peptides\n",
    "    filtered_df = df[df['peptide'].isin(sampled_peptides)]\n",
    "\n",
    "    def sample_tcrs(group):\n",
    "        return group.sample(n=min(len(group), num_few_shots), random_state = 42)  # Ensures reproducibility\n",
    "    \n",
    "    result_df = filtered_df.groupby(\"peptide\").apply(sample_tcrs).reset_index(drop = True)\n",
    "\n",
    "    return result_df"
   ]
  },
  {
   "cell_type": "code",
   "execution_count": 17,
   "metadata": {},
   "outputs": [],
   "source": [
    "def clean_sampled(A: pd.DataFrame, B: pd.DataFrame):\n",
    "    A['flag'] = True\n",
    "    B['flag'] = False\n",
    "\n",
    "    # Concatenate the two dataframes\n",
    "    combined = pd.concat([A, B], ignore_index=True)\n",
    "\n",
    "    # Remove rows that are repeated by keeping only those that have `flag` set to True\n",
    "    filtered = combined.drop_duplicates(subset=A.columns[:-1], keep=False)\n",
    "\n",
    "    # Retain only rows that have the original flag as `True`\n",
    "    A_cleaned = filtered[filtered['flag']].drop(columns='flag')\n",
    "\n",
    "    return A_cleaned"
   ]
  },
  {
   "cell_type": "code",
   "execution_count": 18,
   "metadata": {},
   "outputs": [],
   "source": [
    "def validation_split(neg_generate_mode, split_id, unseen_ratio = 0.2, num_few_shot = 5):\n",
    "    train_df_path = os.path.join(DATA_BASE, \"train\", neg_generate_mode, f\"train-{split_id}.csv\")\n",
    "\n",
    "    test_df_path = os.path.join(DATA_BASE, \"test\", neg_generate_mode, f\"test-{split_id}.csv\")\n",
    "    \n",
    "    train_df = make_df(train_df_path)\n",
    "    test_df = make_df(test_df_path)\n",
    "    \n",
    "    num_samples = train_df.shape[0]\n",
    "    num_validation = int(num_samples * validation_ratio)\n",
    "\n",
    "    from collections import Counter\n",
    "    peptide_count = Counter(train_df['peptide'])\n",
    "    peptide_count_len = len(peptide_count)\n",
    "    peptide_perm = np.random.RandomState(seed=42).permutation(peptide_count_len)\n",
    "\n",
    "    c = 0\n",
    "    selected_peptide = []\n",
    "    for i in peptide_perm:\n",
    "        selected_peptide.append(peptide_count.most_common()[i][0])\n",
    "        c += peptide_count.most_common()[i][1]\n",
    "        if c > num_validation:\n",
    "            break\n",
    "\n",
    "    new_train_df = train_df[~train_df['peptide'].isin(selected_peptide)]\n",
    "    validation_df = train_df[train_df['peptide'].isin(selected_peptide)]\n",
    "\n",
    "    # get the few-shot knowledge\n",
    "    sample_validation = get_few_shot_df(validation_df, 0.2, num_few_shot)\n",
    "    sample_test = get_few_shot_df(test_df, 0.2, num_few_shot)\n",
    "\n",
    "    print(f\"shape of sample_validation: {sample_validation.shape}, shape of sample_test: {sample_test.shape}\")\n",
    "\n",
    "    new_train_df = pd.concat([new_train_df, sample_validation, sample_test], axis=0, ignore_index=True)\n",
    "\n",
    "    new_validation_df = clean_sampled(validation_df, sample_validation)\n",
    "    new_test_df = clean_sampled(test_df, sample_test)\n",
    "\n",
    "    check_unseen(new_train_df, validation_df)\n",
    "    check_unseen(new_train_df, test_df)\n",
    "    print(f\"num of unique peptide in test set: {test_df['peptide'].unique().shape}\")\n",
    "    # draw_bar(train_df.shape[0], validation_df.shape[0], test_df.shape[0], split_id)\n",
    "    \n",
    "    return new_train_df, new_validation_df, new_test_df\n"
   ]
  },
  {
   "cell_type": "code",
   "execution_count": 19,
   "metadata": {},
   "outputs": [
    {
     "name": "stdout",
     "output_type": "stream",
     "text": [
      "shape of sample_validation: (105, 3), shape of sample_test: (4, 3)\n",
      "num of unseen peptides in validation set:  420\n",
      "num of unseen peptides in train set:  820\n",
      "num of common peptides in train and validation set:  105\n",
      "num of unseen peptides in validation set:  15\n",
      "num of unseen peptides in train set:  921\n",
      "num of common peptides in train and validation set:  4\n",
      "num of unique peptide in test set: (19,)\n"
     ]
    },
    {
     "name": "stderr",
     "output_type": "stream",
     "text": [
      "/tmp/ipykernel_166010/2861392740.py:2: SettingWithCopyWarning: \n",
      "A value is trying to be set on a copy of a slice from a DataFrame.\n",
      "Try using .loc[row_indexer,col_indexer] = value instead\n",
      "\n",
      "See the caveats in the documentation: https://pandas.pydata.org/pandas-docs/stable/user_guide/indexing.html#returning-a-view-versus-a-copy\n",
      "  A['flag'] = True\n"
     ]
    },
    {
     "name": "stdout",
     "output_type": "stream",
     "text": [
      "shape of sample_validation: (104, 3), shape of sample_test: (5, 3)\n",
      "num of unseen peptides in validation set:  417\n",
      "num of unseen peptides in train set:  818\n",
      "num of common peptides in train and validation set:  104\n",
      "num of unseen peptides in validation set:  21\n",
      "num of unseen peptides in train set:  917\n",
      "num of common peptides in train and validation set:  5\n",
      "num of unique peptide in test set: (26,)\n"
     ]
    },
    {
     "name": "stderr",
     "output_type": "stream",
     "text": [
      "/tmp/ipykernel_166010/2861392740.py:2: SettingWithCopyWarning: \n",
      "A value is trying to be set on a copy of a slice from a DataFrame.\n",
      "Try using .loc[row_indexer,col_indexer] = value instead\n",
      "\n",
      "See the caveats in the documentation: https://pandas.pydata.org/pandas-docs/stable/user_guide/indexing.html#returning-a-view-versus-a-copy\n",
      "  A['flag'] = True\n"
     ]
    },
    {
     "name": "stdout",
     "output_type": "stream",
     "text": [
      "shape of sample_validation: (104, 3), shape of sample_test: (5, 3)\n",
      "num of unseen peptides in validation set:  417\n",
      "num of unseen peptides in train set:  818\n",
      "num of common peptides in train and validation set:  104\n",
      "num of unseen peptides in validation set:  21\n",
      "num of unseen peptides in train set:  917\n",
      "num of common peptides in train and validation set:  5\n",
      "num of unique peptide in test set: (26,)\n"
     ]
    },
    {
     "name": "stderr",
     "output_type": "stream",
     "text": [
      "/tmp/ipykernel_166010/2861392740.py:2: SettingWithCopyWarning: \n",
      "A value is trying to be set on a copy of a slice from a DataFrame.\n",
      "Try using .loc[row_indexer,col_indexer] = value instead\n",
      "\n",
      "See the caveats in the documentation: https://pandas.pydata.org/pandas-docs/stable/user_guide/indexing.html#returning-a-view-versus-a-copy\n",
      "  A['flag'] = True\n"
     ]
    },
    {
     "name": "stdout",
     "output_type": "stream",
     "text": [
      "shape of sample_validation: (104, 3), shape of sample_test: (5, 3)\n",
      "num of unseen peptides in validation set:  417\n",
      "num of unseen peptides in train set:  821\n",
      "num of common peptides in train and validation set:  104\n",
      "num of unseen peptides in validation set:  18\n",
      "num of unseen peptides in train set:  920\n",
      "num of common peptides in train and validation set:  5\n",
      "num of unique peptide in test set: (23,)\n"
     ]
    },
    {
     "name": "stderr",
     "output_type": "stream",
     "text": [
      "/tmp/ipykernel_166010/2861392740.py:2: SettingWithCopyWarning: \n",
      "A value is trying to be set on a copy of a slice from a DataFrame.\n",
      "Try using .loc[row_indexer,col_indexer] = value instead\n",
      "\n",
      "See the caveats in the documentation: https://pandas.pydata.org/pandas-docs/stable/user_guide/indexing.html#returning-a-view-versus-a-copy\n",
      "  A['flag'] = True\n"
     ]
    },
    {
     "name": "stdout",
     "output_type": "stream",
     "text": [
      "shape of sample_validation: (105, 3), shape of sample_test: (4, 3)\n",
      "num of unseen peptides in validation set:  419\n",
      "num of unseen peptides in train set:  819\n",
      "num of common peptides in train and validation set:  105\n",
      "num of unseen peptides in validation set:  17\n",
      "num of unseen peptides in train set:  920\n",
      "num of common peptides in train and validation set:  4\n",
      "num of unique peptide in test set: (21,)\n"
     ]
    },
    {
     "name": "stderr",
     "output_type": "stream",
     "text": [
      "/tmp/ipykernel_166010/2861392740.py:2: SettingWithCopyWarning: \n",
      "A value is trying to be set on a copy of a slice from a DataFrame.\n",
      "Try using .loc[row_indexer,col_indexer] = value instead\n",
      "\n",
      "See the caveats in the documentation: https://pandas.pydata.org/pandas-docs/stable/user_guide/indexing.html#returning-a-view-versus-a-copy\n",
      "  A['flag'] = True\n"
     ]
    },
    {
     "name": "stdout",
     "output_type": "stream",
     "text": [
      "shape of sample_validation: (94, 3), shape of sample_test: (6, 3)\n",
      "num of unseen peptides in validation set:  374\n",
      "num of unseen peptides in train set:  866\n",
      "num of common peptides in train and validation set:  94\n",
      "num of unseen peptides in validation set:  26\n",
      "num of unseen peptides in train set:  954\n",
      "num of common peptides in train and validation set:  6\n",
      "num of unique peptide in test set: (32,)\n"
     ]
    },
    {
     "name": "stderr",
     "output_type": "stream",
     "text": [
      "/tmp/ipykernel_166010/2861392740.py:2: SettingWithCopyWarning: \n",
      "A value is trying to be set on a copy of a slice from a DataFrame.\n",
      "Try using .loc[row_indexer,col_indexer] = value instead\n",
      "\n",
      "See the caveats in the documentation: https://pandas.pydata.org/pandas-docs/stable/user_guide/indexing.html#returning-a-view-versus-a-copy\n",
      "  A['flag'] = True\n"
     ]
    },
    {
     "name": "stdout",
     "output_type": "stream",
     "text": [
      "shape of sample_validation: (92, 3), shape of sample_test: (6, 3)\n",
      "num of unseen peptides in validation set:  366\n",
      "num of unseen peptides in train set:  880\n",
      "num of common peptides in train and validation set:  92\n",
      "num of unseen peptides in validation set:  22\n",
      "num of unseen peptides in train set:  966\n",
      "num of common peptides in train and validation set:  6\n",
      "num of unique peptide in test set: (28,)\n"
     ]
    },
    {
     "name": "stderr",
     "output_type": "stream",
     "text": [
      "/tmp/ipykernel_166010/2861392740.py:2: SettingWithCopyWarning: \n",
      "A value is trying to be set on a copy of a slice from a DataFrame.\n",
      "Try using .loc[row_indexer,col_indexer] = value instead\n",
      "\n",
      "See the caveats in the documentation: https://pandas.pydata.org/pandas-docs/stable/user_guide/indexing.html#returning-a-view-versus-a-copy\n",
      "  A['flag'] = True\n"
     ]
    },
    {
     "name": "stdout",
     "output_type": "stream",
     "text": [
      "shape of sample_validation: (92, 3), shape of sample_test: (5, 3)\n",
      "num of unseen peptides in validation set:  367\n",
      "num of unseen peptides in train set:  882\n",
      "num of common peptides in train and validation set:  92\n",
      "num of unseen peptides in validation set:  19\n",
      "num of unseen peptides in train set:  969\n",
      "num of common peptides in train and validation set:  5\n",
      "num of unique peptide in test set: (24,)\n"
     ]
    },
    {
     "name": "stderr",
     "output_type": "stream",
     "text": [
      "/tmp/ipykernel_166010/2861392740.py:2: SettingWithCopyWarning: \n",
      "A value is trying to be set on a copy of a slice from a DataFrame.\n",
      "Try using .loc[row_indexer,col_indexer] = value instead\n",
      "\n",
      "See the caveats in the documentation: https://pandas.pydata.org/pandas-docs/stable/user_guide/indexing.html#returning-a-view-versus-a-copy\n",
      "  A['flag'] = True\n"
     ]
    },
    {
     "name": "stdout",
     "output_type": "stream",
     "text": [
      "shape of sample_validation: (92, 3), shape of sample_test: (5, 3)\n",
      "num of unseen peptides in validation set:  367\n",
      "num of unseen peptides in train set:  881\n",
      "num of common peptides in train and validation set:  92\n",
      "num of unseen peptides in validation set:  20\n",
      "num of unseen peptides in train set:  968\n",
      "num of common peptides in train and validation set:  5\n",
      "num of unique peptide in test set: (25,)\n"
     ]
    },
    {
     "name": "stderr",
     "output_type": "stream",
     "text": [
      "/tmp/ipykernel_166010/2861392740.py:2: SettingWithCopyWarning: \n",
      "A value is trying to be set on a copy of a slice from a DataFrame.\n",
      "Try using .loc[row_indexer,col_indexer] = value instead\n",
      "\n",
      "See the caveats in the documentation: https://pandas.pydata.org/pandas-docs/stable/user_guide/indexing.html#returning-a-view-versus-a-copy\n",
      "  A['flag'] = True\n"
     ]
    },
    {
     "name": "stdout",
     "output_type": "stream",
     "text": [
      "shape of sample_validation: (92, 3), shape of sample_test: (5, 3)\n",
      "num of unseen peptides in validation set:  367\n",
      "num of unseen peptides in train set:  879\n",
      "num of common peptides in train and validation set:  92\n",
      "num of unseen peptides in validation set:  22\n",
      "num of unseen peptides in train set:  966\n",
      "num of common peptides in train and validation set:  5\n",
      "num of unique peptide in test set: (27,)\n"
     ]
    },
    {
     "name": "stderr",
     "output_type": "stream",
     "text": [
      "/tmp/ipykernel_166010/2861392740.py:2: SettingWithCopyWarning: \n",
      "A value is trying to be set on a copy of a slice from a DataFrame.\n",
      "Try using .loc[row_indexer,col_indexer] = value instead\n",
      "\n",
      "See the caveats in the documentation: https://pandas.pydata.org/pandas-docs/stable/user_guide/indexing.html#returning-a-view-versus-a-copy\n",
      "  A['flag'] = True\n"
     ]
    },
    {
     "name": "stdout",
     "output_type": "stream",
     "text": [
      "shape of sample_validation: (188, 3), shape of sample_test: (8, 3)\n",
      "num of unseen peptides in validation set:  420\n",
      "num of unseen peptides in train set:  820\n",
      "num of common peptides in train and validation set:  105\n",
      "num of unseen peptides in validation set:  15\n",
      "num of unseen peptides in train set:  921\n",
      "num of common peptides in train and validation set:  4\n",
      "num of unique peptide in test set: (19,)\n"
     ]
    },
    {
     "name": "stderr",
     "output_type": "stream",
     "text": [
      "/tmp/ipykernel_166010/2861392740.py:2: SettingWithCopyWarning: \n",
      "A value is trying to be set on a copy of a slice from a DataFrame.\n",
      "Try using .loc[row_indexer,col_indexer] = value instead\n",
      "\n",
      "See the caveats in the documentation: https://pandas.pydata.org/pandas-docs/stable/user_guide/indexing.html#returning-a-view-versus-a-copy\n",
      "  A['flag'] = True\n"
     ]
    },
    {
     "name": "stdout",
     "output_type": "stream",
     "text": [
      "shape of sample_validation: (177, 3), shape of sample_test: (10, 3)\n",
      "num of unseen peptides in validation set:  417\n",
      "num of unseen peptides in train set:  818\n",
      "num of common peptides in train and validation set:  104\n",
      "num of unseen peptides in validation set:  21\n",
      "num of unseen peptides in train set:  917\n",
      "num of common peptides in train and validation set:  5\n",
      "num of unique peptide in test set: (26,)\n"
     ]
    },
    {
     "name": "stderr",
     "output_type": "stream",
     "text": [
      "/tmp/ipykernel_166010/2861392740.py:2: SettingWithCopyWarning: \n",
      "A value is trying to be set on a copy of a slice from a DataFrame.\n",
      "Try using .loc[row_indexer,col_indexer] = value instead\n",
      "\n",
      "See the caveats in the documentation: https://pandas.pydata.org/pandas-docs/stable/user_guide/indexing.html#returning-a-view-versus-a-copy\n",
      "  A['flag'] = True\n"
     ]
    },
    {
     "name": "stdout",
     "output_type": "stream",
     "text": [
      "shape of sample_validation: (177, 3), shape of sample_test: (10, 3)\n",
      "num of unseen peptides in validation set:  417\n",
      "num of unseen peptides in train set:  818\n",
      "num of common peptides in train and validation set:  104\n",
      "num of unseen peptides in validation set:  21\n",
      "num of unseen peptides in train set:  917\n",
      "num of common peptides in train and validation set:  5\n",
      "num of unique peptide in test set: (26,)\n"
     ]
    },
    {
     "name": "stderr",
     "output_type": "stream",
     "text": [
      "/tmp/ipykernel_166010/2861392740.py:2: SettingWithCopyWarning: \n",
      "A value is trying to be set on a copy of a slice from a DataFrame.\n",
      "Try using .loc[row_indexer,col_indexer] = value instead\n",
      "\n",
      "See the caveats in the documentation: https://pandas.pydata.org/pandas-docs/stable/user_guide/indexing.html#returning-a-view-versus-a-copy\n",
      "  A['flag'] = True\n"
     ]
    },
    {
     "name": "stdout",
     "output_type": "stream",
     "text": [
      "shape of sample_validation: (174, 3), shape of sample_test: (10, 3)\n",
      "num of unseen peptides in validation set:  417\n",
      "num of unseen peptides in train set:  821\n",
      "num of common peptides in train and validation set:  104\n",
      "num of unseen peptides in validation set:  18\n",
      "num of unseen peptides in train set:  920\n",
      "num of common peptides in train and validation set:  5\n",
      "num of unique peptide in test set: (23,)\n"
     ]
    },
    {
     "name": "stderr",
     "output_type": "stream",
     "text": [
      "/tmp/ipykernel_166010/2861392740.py:2: SettingWithCopyWarning: \n",
      "A value is trying to be set on a copy of a slice from a DataFrame.\n",
      "Try using .loc[row_indexer,col_indexer] = value instead\n",
      "\n",
      "See the caveats in the documentation: https://pandas.pydata.org/pandas-docs/stable/user_guide/indexing.html#returning-a-view-versus-a-copy\n",
      "  A['flag'] = True\n"
     ]
    },
    {
     "name": "stdout",
     "output_type": "stream",
     "text": [
      "shape of sample_validation: (187, 3), shape of sample_test: (8, 3)\n",
      "num of unseen peptides in validation set:  419\n",
      "num of unseen peptides in train set:  819\n",
      "num of common peptides in train and validation set:  105\n",
      "num of unseen peptides in validation set:  17\n",
      "num of unseen peptides in train set:  920\n",
      "num of common peptides in train and validation set:  4\n",
      "num of unique peptide in test set: (21,)\n"
     ]
    },
    {
     "name": "stderr",
     "output_type": "stream",
     "text": [
      "/tmp/ipykernel_166010/2861392740.py:2: SettingWithCopyWarning: \n",
      "A value is trying to be set on a copy of a slice from a DataFrame.\n",
      "Try using .loc[row_indexer,col_indexer] = value instead\n",
      "\n",
      "See the caveats in the documentation: https://pandas.pydata.org/pandas-docs/stable/user_guide/indexing.html#returning-a-view-versus-a-copy\n",
      "  A['flag'] = True\n"
     ]
    },
    {
     "name": "stdout",
     "output_type": "stream",
     "text": [
      "shape of sample_validation: (188, 3), shape of sample_test: (12, 3)\n",
      "num of unseen peptides in validation set:  374\n",
      "num of unseen peptides in train set:  866\n",
      "num of common peptides in train and validation set:  94\n",
      "num of unseen peptides in validation set:  26\n",
      "num of unseen peptides in train set:  954\n",
      "num of common peptides in train and validation set:  6\n",
      "num of unique peptide in test set: (32,)\n"
     ]
    },
    {
     "name": "stderr",
     "output_type": "stream",
     "text": [
      "/tmp/ipykernel_166010/2861392740.py:2: SettingWithCopyWarning: \n",
      "A value is trying to be set on a copy of a slice from a DataFrame.\n",
      "Try using .loc[row_indexer,col_indexer] = value instead\n",
      "\n",
      "See the caveats in the documentation: https://pandas.pydata.org/pandas-docs/stable/user_guide/indexing.html#returning-a-view-versus-a-copy\n",
      "  A['flag'] = True\n"
     ]
    },
    {
     "name": "stdout",
     "output_type": "stream",
     "text": [
      "shape of sample_validation: (184, 3), shape of sample_test: (12, 3)\n",
      "num of unseen peptides in validation set:  366\n",
      "num of unseen peptides in train set:  880\n",
      "num of common peptides in train and validation set:  92\n",
      "num of unseen peptides in validation set:  22\n",
      "num of unseen peptides in train set:  966\n",
      "num of common peptides in train and validation set:  6\n",
      "num of unique peptide in test set: (28,)\n"
     ]
    },
    {
     "name": "stderr",
     "output_type": "stream",
     "text": [
      "/tmp/ipykernel_166010/2861392740.py:2: SettingWithCopyWarning: \n",
      "A value is trying to be set on a copy of a slice from a DataFrame.\n",
      "Try using .loc[row_indexer,col_indexer] = value instead\n",
      "\n",
      "See the caveats in the documentation: https://pandas.pydata.org/pandas-docs/stable/user_guide/indexing.html#returning-a-view-versus-a-copy\n",
      "  A['flag'] = True\n"
     ]
    },
    {
     "name": "stdout",
     "output_type": "stream",
     "text": [
      "shape of sample_validation: (184, 3), shape of sample_test: (10, 3)\n",
      "num of unseen peptides in validation set:  367\n",
      "num of unseen peptides in train set:  882\n",
      "num of common peptides in train and validation set:  92\n",
      "num of unseen peptides in validation set:  19\n",
      "num of unseen peptides in train set:  969\n",
      "num of common peptides in train and validation set:  5\n",
      "num of unique peptide in test set: (24,)\n"
     ]
    },
    {
     "name": "stderr",
     "output_type": "stream",
     "text": [
      "/tmp/ipykernel_166010/2861392740.py:2: SettingWithCopyWarning: \n",
      "A value is trying to be set on a copy of a slice from a DataFrame.\n",
      "Try using .loc[row_indexer,col_indexer] = value instead\n",
      "\n",
      "See the caveats in the documentation: https://pandas.pydata.org/pandas-docs/stable/user_guide/indexing.html#returning-a-view-versus-a-copy\n",
      "  A['flag'] = True\n"
     ]
    },
    {
     "name": "stdout",
     "output_type": "stream",
     "text": [
      "shape of sample_validation: (184, 3), shape of sample_test: (10, 3)\n",
      "num of unseen peptides in validation set:  367\n",
      "num of unseen peptides in train set:  881\n",
      "num of common peptides in train and validation set:  92\n",
      "num of unseen peptides in validation set:  20\n",
      "num of unseen peptides in train set:  968\n",
      "num of common peptides in train and validation set:  5\n",
      "num of unique peptide in test set: (25,)\n"
     ]
    },
    {
     "name": "stderr",
     "output_type": "stream",
     "text": [
      "/tmp/ipykernel_166010/2861392740.py:2: SettingWithCopyWarning: \n",
      "A value is trying to be set on a copy of a slice from a DataFrame.\n",
      "Try using .loc[row_indexer,col_indexer] = value instead\n",
      "\n",
      "See the caveats in the documentation: https://pandas.pydata.org/pandas-docs/stable/user_guide/indexing.html#returning-a-view-versus-a-copy\n",
      "  A['flag'] = True\n"
     ]
    },
    {
     "name": "stdout",
     "output_type": "stream",
     "text": [
      "shape of sample_validation: (184, 3), shape of sample_test: (10, 3)\n",
      "num of unseen peptides in validation set:  367\n",
      "num of unseen peptides in train set:  879\n",
      "num of common peptides in train and validation set:  92\n",
      "num of unseen peptides in validation set:  22\n",
      "num of unseen peptides in train set:  966\n",
      "num of common peptides in train and validation set:  5\n",
      "num of unique peptide in test set: (27,)\n"
     ]
    },
    {
     "name": "stderr",
     "output_type": "stream",
     "text": [
      "/tmp/ipykernel_166010/2861392740.py:2: SettingWithCopyWarning: \n",
      "A value is trying to be set on a copy of a slice from a DataFrame.\n",
      "Try using .loc[row_indexer,col_indexer] = value instead\n",
      "\n",
      "See the caveats in the documentation: https://pandas.pydata.org/pandas-docs/stable/user_guide/indexing.html#returning-a-view-versus-a-copy\n",
      "  A['flag'] = True\n"
     ]
    },
    {
     "name": "stdout",
     "output_type": "stream",
     "text": [
      "shape of sample_validation: (245, 3), shape of sample_test: (12, 3)\n",
      "num of unseen peptides in validation set:  420\n",
      "num of unseen peptides in train set:  820\n",
      "num of common peptides in train and validation set:  105\n",
      "num of unseen peptides in validation set:  15\n",
      "num of unseen peptides in train set:  921\n",
      "num of common peptides in train and validation set:  4\n",
      "num of unique peptide in test set: (19,)\n"
     ]
    },
    {
     "name": "stderr",
     "output_type": "stream",
     "text": [
      "/tmp/ipykernel_166010/2861392740.py:2: SettingWithCopyWarning: \n",
      "A value is trying to be set on a copy of a slice from a DataFrame.\n",
      "Try using .loc[row_indexer,col_indexer] = value instead\n",
      "\n",
      "See the caveats in the documentation: https://pandas.pydata.org/pandas-docs/stable/user_guide/indexing.html#returning-a-view-versus-a-copy\n",
      "  A['flag'] = True\n"
     ]
    },
    {
     "name": "stdout",
     "output_type": "stream",
     "text": [
      "shape of sample_validation: (233, 3), shape of sample_test: (15, 3)\n",
      "num of unseen peptides in validation set:  417\n",
      "num of unseen peptides in train set:  818\n",
      "num of common peptides in train and validation set:  104\n",
      "num of unseen peptides in validation set:  21\n",
      "num of unseen peptides in train set:  917\n",
      "num of common peptides in train and validation set:  5\n",
      "num of unique peptide in test set: (26,)\n"
     ]
    },
    {
     "name": "stderr",
     "output_type": "stream",
     "text": [
      "/tmp/ipykernel_166010/2861392740.py:2: SettingWithCopyWarning: \n",
      "A value is trying to be set on a copy of a slice from a DataFrame.\n",
      "Try using .loc[row_indexer,col_indexer] = value instead\n",
      "\n",
      "See the caveats in the documentation: https://pandas.pydata.org/pandas-docs/stable/user_guide/indexing.html#returning-a-view-versus-a-copy\n",
      "  A['flag'] = True\n"
     ]
    },
    {
     "name": "stdout",
     "output_type": "stream",
     "text": [
      "shape of sample_validation: (233, 3), shape of sample_test: (15, 3)\n",
      "num of unseen peptides in validation set:  417\n",
      "num of unseen peptides in train set:  818\n",
      "num of common peptides in train and validation set:  104\n",
      "num of unseen peptides in validation set:  21\n",
      "num of unseen peptides in train set:  917\n",
      "num of common peptides in train and validation set:  5\n",
      "num of unique peptide in test set: (26,)\n"
     ]
    },
    {
     "name": "stderr",
     "output_type": "stream",
     "text": [
      "/tmp/ipykernel_166010/2861392740.py:2: SettingWithCopyWarning: \n",
      "A value is trying to be set on a copy of a slice from a DataFrame.\n",
      "Try using .loc[row_indexer,col_indexer] = value instead\n",
      "\n",
      "See the caveats in the documentation: https://pandas.pydata.org/pandas-docs/stable/user_guide/indexing.html#returning-a-view-versus-a-copy\n",
      "  A['flag'] = True\n"
     ]
    },
    {
     "name": "stdout",
     "output_type": "stream",
     "text": [
      "shape of sample_validation: (228, 3), shape of sample_test: (15, 3)\n",
      "num of unseen peptides in validation set:  417\n",
      "num of unseen peptides in train set:  821\n",
      "num of common peptides in train and validation set:  104\n",
      "num of unseen peptides in validation set:  18\n",
      "num of unseen peptides in train set:  920\n",
      "num of common peptides in train and validation set:  5\n",
      "num of unique peptide in test set: (23,)\n"
     ]
    },
    {
     "name": "stderr",
     "output_type": "stream",
     "text": [
      "/tmp/ipykernel_166010/2861392740.py:2: SettingWithCopyWarning: \n",
      "A value is trying to be set on a copy of a slice from a DataFrame.\n",
      "Try using .loc[row_indexer,col_indexer] = value instead\n",
      "\n",
      "See the caveats in the documentation: https://pandas.pydata.org/pandas-docs/stable/user_guide/indexing.html#returning-a-view-versus-a-copy\n",
      "  A['flag'] = True\n"
     ]
    },
    {
     "name": "stdout",
     "output_type": "stream",
     "text": [
      "shape of sample_validation: (252, 3), shape of sample_test: (12, 3)\n",
      "num of unseen peptides in validation set:  419\n",
      "num of unseen peptides in train set:  819\n",
      "num of common peptides in train and validation set:  105\n",
      "num of unseen peptides in validation set:  17\n",
      "num of unseen peptides in train set:  920\n",
      "num of common peptides in train and validation set:  4\n",
      "num of unique peptide in test set: (21,)\n"
     ]
    },
    {
     "name": "stderr",
     "output_type": "stream",
     "text": [
      "/tmp/ipykernel_166010/2861392740.py:2: SettingWithCopyWarning: \n",
      "A value is trying to be set on a copy of a slice from a DataFrame.\n",
      "Try using .loc[row_indexer,col_indexer] = value instead\n",
      "\n",
      "See the caveats in the documentation: https://pandas.pydata.org/pandas-docs/stable/user_guide/indexing.html#returning-a-view-versus-a-copy\n",
      "  A['flag'] = True\n"
     ]
    },
    {
     "name": "stdout",
     "output_type": "stream",
     "text": [
      "shape of sample_validation: (282, 3), shape of sample_test: (18, 3)\n",
      "num of unseen peptides in validation set:  374\n",
      "num of unseen peptides in train set:  866\n",
      "num of common peptides in train and validation set:  94\n",
      "num of unseen peptides in validation set:  26\n",
      "num of unseen peptides in train set:  954\n",
      "num of common peptides in train and validation set:  6\n",
      "num of unique peptide in test set: (32,)\n"
     ]
    },
    {
     "name": "stderr",
     "output_type": "stream",
     "text": [
      "/tmp/ipykernel_166010/2861392740.py:2: SettingWithCopyWarning: \n",
      "A value is trying to be set on a copy of a slice from a DataFrame.\n",
      "Try using .loc[row_indexer,col_indexer] = value instead\n",
      "\n",
      "See the caveats in the documentation: https://pandas.pydata.org/pandas-docs/stable/user_guide/indexing.html#returning-a-view-versus-a-copy\n",
      "  A['flag'] = True\n"
     ]
    },
    {
     "name": "stdout",
     "output_type": "stream",
     "text": [
      "shape of sample_validation: (276, 3), shape of sample_test: (18, 3)\n",
      "num of unseen peptides in validation set:  366\n",
      "num of unseen peptides in train set:  880\n",
      "num of common peptides in train and validation set:  92\n",
      "num of unseen peptides in validation set:  22\n",
      "num of unseen peptides in train set:  966\n",
      "num of common peptides in train and validation set:  6\n",
      "num of unique peptide in test set: (28,)\n"
     ]
    },
    {
     "name": "stderr",
     "output_type": "stream",
     "text": [
      "/tmp/ipykernel_166010/2861392740.py:2: SettingWithCopyWarning: \n",
      "A value is trying to be set on a copy of a slice from a DataFrame.\n",
      "Try using .loc[row_indexer,col_indexer] = value instead\n",
      "\n",
      "See the caveats in the documentation: https://pandas.pydata.org/pandas-docs/stable/user_guide/indexing.html#returning-a-view-versus-a-copy\n",
      "  A['flag'] = True\n"
     ]
    },
    {
     "name": "stdout",
     "output_type": "stream",
     "text": [
      "shape of sample_validation: (276, 3), shape of sample_test: (15, 3)\n",
      "num of unseen peptides in validation set:  367\n",
      "num of unseen peptides in train set:  882\n",
      "num of common peptides in train and validation set:  92\n",
      "num of unseen peptides in validation set:  19\n",
      "num of unseen peptides in train set:  969\n",
      "num of common peptides in train and validation set:  5\n",
      "num of unique peptide in test set: (24,)\n"
     ]
    },
    {
     "name": "stderr",
     "output_type": "stream",
     "text": [
      "/tmp/ipykernel_166010/2861392740.py:2: SettingWithCopyWarning: \n",
      "A value is trying to be set on a copy of a slice from a DataFrame.\n",
      "Try using .loc[row_indexer,col_indexer] = value instead\n",
      "\n",
      "See the caveats in the documentation: https://pandas.pydata.org/pandas-docs/stable/user_guide/indexing.html#returning-a-view-versus-a-copy\n",
      "  A['flag'] = True\n"
     ]
    },
    {
     "name": "stdout",
     "output_type": "stream",
     "text": [
      "shape of sample_validation: (276, 3), shape of sample_test: (15, 3)\n",
      "num of unseen peptides in validation set:  367\n",
      "num of unseen peptides in train set:  881\n",
      "num of common peptides in train and validation set:  92\n",
      "num of unseen peptides in validation set:  20\n",
      "num of unseen peptides in train set:  968\n",
      "num of common peptides in train and validation set:  5\n",
      "num of unique peptide in test set: (25,)\n"
     ]
    },
    {
     "name": "stderr",
     "output_type": "stream",
     "text": [
      "/tmp/ipykernel_166010/2861392740.py:2: SettingWithCopyWarning: \n",
      "A value is trying to be set on a copy of a slice from a DataFrame.\n",
      "Try using .loc[row_indexer,col_indexer] = value instead\n",
      "\n",
      "See the caveats in the documentation: https://pandas.pydata.org/pandas-docs/stable/user_guide/indexing.html#returning-a-view-versus-a-copy\n",
      "  A['flag'] = True\n"
     ]
    },
    {
     "name": "stdout",
     "output_type": "stream",
     "text": [
      "shape of sample_validation: (276, 3), shape of sample_test: (15, 3)\n",
      "num of unseen peptides in validation set:  367\n",
      "num of unseen peptides in train set:  879\n",
      "num of common peptides in train and validation set:  92\n",
      "num of unseen peptides in validation set:  22\n",
      "num of unseen peptides in train set:  966\n",
      "num of common peptides in train and validation set:  5\n",
      "num of unique peptide in test set: (27,)\n"
     ]
    },
    {
     "name": "stderr",
     "output_type": "stream",
     "text": [
      "/tmp/ipykernel_166010/2861392740.py:2: SettingWithCopyWarning: \n",
      "A value is trying to be set on a copy of a slice from a DataFrame.\n",
      "Try using .loc[row_indexer,col_indexer] = value instead\n",
      "\n",
      "See the caveats in the documentation: https://pandas.pydata.org/pandas-docs/stable/user_guide/indexing.html#returning-a-view-versus-a-copy\n",
      "  A['flag'] = True\n"
     ]
    },
    {
     "name": "stdout",
     "output_type": "stream",
     "text": [
      "shape of sample_validation: (295, 3), shape of sample_test: (16, 3)\n",
      "num of unseen peptides in validation set:  420\n",
      "num of unseen peptides in train set:  820\n",
      "num of common peptides in train and validation set:  105\n",
      "num of unseen peptides in validation set:  15\n",
      "num of unseen peptides in train set:  921\n",
      "num of common peptides in train and validation set:  4\n",
      "num of unique peptide in test set: (19,)\n"
     ]
    },
    {
     "name": "stderr",
     "output_type": "stream",
     "text": [
      "/tmp/ipykernel_166010/2861392740.py:2: SettingWithCopyWarning: \n",
      "A value is trying to be set on a copy of a slice from a DataFrame.\n",
      "Try using .loc[row_indexer,col_indexer] = value instead\n",
      "\n",
      "See the caveats in the documentation: https://pandas.pydata.org/pandas-docs/stable/user_guide/indexing.html#returning-a-view-versus-a-copy\n",
      "  A['flag'] = True\n"
     ]
    },
    {
     "name": "stdout",
     "output_type": "stream",
     "text": [
      "shape of sample_validation: (281, 3), shape of sample_test: (20, 3)\n",
      "num of unseen peptides in validation set:  417\n",
      "num of unseen peptides in train set:  818\n",
      "num of common peptides in train and validation set:  104\n",
      "num of unseen peptides in validation set:  21\n",
      "num of unseen peptides in train set:  917\n",
      "num of common peptides in train and validation set:  5\n",
      "num of unique peptide in test set: (26,)\n"
     ]
    },
    {
     "name": "stderr",
     "output_type": "stream",
     "text": [
      "/tmp/ipykernel_166010/2861392740.py:2: SettingWithCopyWarning: \n",
      "A value is trying to be set on a copy of a slice from a DataFrame.\n",
      "Try using .loc[row_indexer,col_indexer] = value instead\n",
      "\n",
      "See the caveats in the documentation: https://pandas.pydata.org/pandas-docs/stable/user_guide/indexing.html#returning-a-view-versus-a-copy\n",
      "  A['flag'] = True\n"
     ]
    },
    {
     "name": "stdout",
     "output_type": "stream",
     "text": [
      "shape of sample_validation: (281, 3), shape of sample_test: (20, 3)\n",
      "num of unseen peptides in validation set:  417\n",
      "num of unseen peptides in train set:  818\n",
      "num of common peptides in train and validation set:  104\n",
      "num of unseen peptides in validation set:  21\n",
      "num of unseen peptides in train set:  917\n",
      "num of common peptides in train and validation set:  5\n",
      "num of unique peptide in test set: (26,)\n"
     ]
    },
    {
     "name": "stderr",
     "output_type": "stream",
     "text": [
      "/tmp/ipykernel_166010/2861392740.py:2: SettingWithCopyWarning: \n",
      "A value is trying to be set on a copy of a slice from a DataFrame.\n",
      "Try using .loc[row_indexer,col_indexer] = value instead\n",
      "\n",
      "See the caveats in the documentation: https://pandas.pydata.org/pandas-docs/stable/user_guide/indexing.html#returning-a-view-versus-a-copy\n",
      "  A['flag'] = True\n"
     ]
    },
    {
     "name": "stdout",
     "output_type": "stream",
     "text": [
      "shape of sample_validation: (276, 3), shape of sample_test: (20, 3)\n",
      "num of unseen peptides in validation set:  417\n",
      "num of unseen peptides in train set:  821\n",
      "num of common peptides in train and validation set:  104\n",
      "num of unseen peptides in validation set:  18\n",
      "num of unseen peptides in train set:  920\n",
      "num of common peptides in train and validation set:  5\n",
      "num of unique peptide in test set: (23,)\n"
     ]
    },
    {
     "name": "stderr",
     "output_type": "stream",
     "text": [
      "/tmp/ipykernel_166010/2861392740.py:2: SettingWithCopyWarning: \n",
      "A value is trying to be set on a copy of a slice from a DataFrame.\n",
      "Try using .loc[row_indexer,col_indexer] = value instead\n",
      "\n",
      "See the caveats in the documentation: https://pandas.pydata.org/pandas-docs/stable/user_guide/indexing.html#returning-a-view-versus-a-copy\n",
      "  A['flag'] = True\n"
     ]
    },
    {
     "name": "stdout",
     "output_type": "stream",
     "text": [
      "shape of sample_validation: (308, 3), shape of sample_test: (16, 3)\n",
      "num of unseen peptides in validation set:  419\n",
      "num of unseen peptides in train set:  819\n",
      "num of common peptides in train and validation set:  105\n",
      "num of unseen peptides in validation set:  17\n",
      "num of unseen peptides in train set:  920\n",
      "num of common peptides in train and validation set:  4\n",
      "num of unique peptide in test set: (21,)\n"
     ]
    },
    {
     "name": "stderr",
     "output_type": "stream",
     "text": [
      "/tmp/ipykernel_166010/2861392740.py:2: SettingWithCopyWarning: \n",
      "A value is trying to be set on a copy of a slice from a DataFrame.\n",
      "Try using .loc[row_indexer,col_indexer] = value instead\n",
      "\n",
      "See the caveats in the documentation: https://pandas.pydata.org/pandas-docs/stable/user_guide/indexing.html#returning-a-view-versus-a-copy\n",
      "  A['flag'] = True\n"
     ]
    },
    {
     "name": "stdout",
     "output_type": "stream",
     "text": [
      "shape of sample_validation: (349, 3), shape of sample_test: (24, 3)\n",
      "num of unseen peptides in validation set:  374\n",
      "num of unseen peptides in train set:  866\n",
      "num of common peptides in train and validation set:  94\n",
      "num of unseen peptides in validation set:  26\n",
      "num of unseen peptides in train set:  954\n",
      "num of common peptides in train and validation set:  6\n",
      "num of unique peptide in test set: (32,)\n"
     ]
    },
    {
     "name": "stderr",
     "output_type": "stream",
     "text": [
      "/tmp/ipykernel_166010/2861392740.py:2: SettingWithCopyWarning: \n",
      "A value is trying to be set on a copy of a slice from a DataFrame.\n",
      "Try using .loc[row_indexer,col_indexer] = value instead\n",
      "\n",
      "See the caveats in the documentation: https://pandas.pydata.org/pandas-docs/stable/user_guide/indexing.html#returning-a-view-versus-a-copy\n",
      "  A['flag'] = True\n"
     ]
    },
    {
     "name": "stdout",
     "output_type": "stream",
     "text": [
      "shape of sample_validation: (341, 3), shape of sample_test: (24, 3)\n",
      "num of unseen peptides in validation set:  366\n",
      "num of unseen peptides in train set:  880\n",
      "num of common peptides in train and validation set:  92\n",
      "num of unseen peptides in validation set:  22\n",
      "num of unseen peptides in train set:  966\n",
      "num of common peptides in train and validation set:  6\n",
      "num of unique peptide in test set: (28,)\n"
     ]
    },
    {
     "name": "stderr",
     "output_type": "stream",
     "text": [
      "/tmp/ipykernel_166010/2861392740.py:2: SettingWithCopyWarning: \n",
      "A value is trying to be set on a copy of a slice from a DataFrame.\n",
      "Try using .loc[row_indexer,col_indexer] = value instead\n",
      "\n",
      "See the caveats in the documentation: https://pandas.pydata.org/pandas-docs/stable/user_guide/indexing.html#returning-a-view-versus-a-copy\n",
      "  A['flag'] = True\n"
     ]
    },
    {
     "name": "stdout",
     "output_type": "stream",
     "text": [
      "shape of sample_validation: (341, 3), shape of sample_test: (20, 3)\n",
      "num of unseen peptides in validation set:  367\n",
      "num of unseen peptides in train set:  882\n",
      "num of common peptides in train and validation set:  92\n",
      "num of unseen peptides in validation set:  19\n",
      "num of unseen peptides in train set:  969\n",
      "num of common peptides in train and validation set:  5\n",
      "num of unique peptide in test set: (24,)\n"
     ]
    },
    {
     "name": "stderr",
     "output_type": "stream",
     "text": [
      "/tmp/ipykernel_166010/2861392740.py:2: SettingWithCopyWarning: \n",
      "A value is trying to be set on a copy of a slice from a DataFrame.\n",
      "Try using .loc[row_indexer,col_indexer] = value instead\n",
      "\n",
      "See the caveats in the documentation: https://pandas.pydata.org/pandas-docs/stable/user_guide/indexing.html#returning-a-view-versus-a-copy\n",
      "  A['flag'] = True\n"
     ]
    },
    {
     "name": "stdout",
     "output_type": "stream",
     "text": [
      "shape of sample_validation: (334, 3), shape of sample_test: (20, 3)\n",
      "num of unseen peptides in validation set:  367\n",
      "num of unseen peptides in train set:  881\n",
      "num of common peptides in train and validation set:  92\n",
      "num of unseen peptides in validation set:  20\n",
      "num of unseen peptides in train set:  968\n",
      "num of common peptides in train and validation set:  5\n",
      "num of unique peptide in test set: (25,)\n"
     ]
    },
    {
     "name": "stderr",
     "output_type": "stream",
     "text": [
      "/tmp/ipykernel_166010/2861392740.py:2: SettingWithCopyWarning: \n",
      "A value is trying to be set on a copy of a slice from a DataFrame.\n",
      "Try using .loc[row_indexer,col_indexer] = value instead\n",
      "\n",
      "See the caveats in the documentation: https://pandas.pydata.org/pandas-docs/stable/user_guide/indexing.html#returning-a-view-versus-a-copy\n",
      "  A['flag'] = True\n"
     ]
    },
    {
     "name": "stdout",
     "output_type": "stream",
     "text": [
      "shape of sample_validation: (336, 3), shape of sample_test: (20, 3)\n",
      "num of unseen peptides in validation set:  367\n",
      "num of unseen peptides in train set:  879\n",
      "num of common peptides in train and validation set:  92\n",
      "num of unseen peptides in validation set:  22\n",
      "num of unseen peptides in train set:  966\n",
      "num of common peptides in train and validation set:  5\n",
      "num of unique peptide in test set: (27,)\n"
     ]
    },
    {
     "name": "stderr",
     "output_type": "stream",
     "text": [
      "/tmp/ipykernel_166010/2861392740.py:2: SettingWithCopyWarning: \n",
      "A value is trying to be set on a copy of a slice from a DataFrame.\n",
      "Try using .loc[row_indexer,col_indexer] = value instead\n",
      "\n",
      "See the caveats in the documentation: https://pandas.pydata.org/pandas-docs/stable/user_guide/indexing.html#returning-a-view-versus-a-copy\n",
      "  A['flag'] = True\n"
     ]
    }
   ],
   "source": [
    "num_unseen_ratio = 0.2\n",
    "\n",
    "for num_few_shot in [1, 2, 3, 4]:\n",
    "    for neg_generate_mode in [\"only-neg-assays\", \"only-sampled-negs\"]:\n",
    "        for split_id in range(5):\n",
    "            train_df, validation_df, test_df = validation_split(neg_generate_mode, split_id, 0.2, num_few_shot)\n",
    "            \n",
    "            new_train_df_path = os.path.join(FEW_SHOT_DATA_BASE, \"train\", neg_generate_mode, f\"{num_few_shot}-train-{split_id}.csv\")\n",
    "            validation_df_path = os.path.join(FEW_SHOT_DATA_BASE, \"validation\", neg_generate_mode, f\"{num_few_shot}-validation-{split_id}.csv\")\n",
    "            test_df_path = os.path.join(FEW_SHOT_DATA_BASE, \"test\", neg_generate_mode, f\"{num_few_shot}-test-{split_id}.csv\")\n",
    "\n",
    "            train_df.to_csv(new_train_df_path, index=False)\n",
    "            validation_df.to_csv(validation_df_path, index=False)\n",
    "            test_df.to_csv(test_df_path, index=False)\n"
   ]
  },
  {
   "cell_type": "code",
   "execution_count": 20,
   "metadata": {},
   "outputs": [],
   "source": [
    "# df = pd.read_csv(\"/project/zhiwei/cq5/PythonWorkSpace/TCRPrediction/tc-hard/dataset/few_shot_split/pep+cdr3b/test/only-sampled-negs/15-test-0.csv\")\n",
    "\n",
    "# df.shape"
   ]
  },
  {
   "cell_type": "code",
   "execution_count": null,
   "metadata": {},
   "outputs": [],
   "source": []
  }
 ],
 "metadata": {
  "kernelspec": {
   "display_name": "Python 3",
   "language": "python",
   "name": "python3"
  },
  "language_info": {
   "codemirror_mode": {
    "name": "ipython",
    "version": 3
   },
   "file_extension": ".py",
   "mimetype": "text/x-python",
   "name": "python",
   "nbconvert_exporter": "python",
   "pygments_lexer": "ipython3",
   "version": "3.8.19"
  }
 },
 "nbformat": 4,
 "nbformat_minor": 2
}
